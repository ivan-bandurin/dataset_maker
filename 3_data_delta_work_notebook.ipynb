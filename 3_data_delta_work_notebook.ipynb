{
 "cells": [
  {
   "cell_type": "code",
   "execution_count": 1,
   "id": "exclusive-campus",
   "metadata": {},
   "outputs": [],
   "source": [
    "import time \n",
    "start = time.time()"
   ]
  },
  {
   "cell_type": "markdown",
   "id": "british-supervisor",
   "metadata": {},
   "source": [
    "### Загрузка библиотек"
   ]
  },
  {
   "cell_type": "code",
   "execution_count": 2,
   "id": "intelligent-adventure",
   "metadata": {},
   "outputs": [],
   "source": [
    "import pandas as pd\n",
    "import numpy as np\n",
    "from IPython.display import display\n",
    "from numpy import nan\n",
    "\n",
    "pd.set_option('display.max_columns', None)\n",
    "pd.set_option('display.max_rows', None)\n",
    "pd.options.mode.chained_assignment = None"
   ]
  },
  {
   "cell_type": "markdown",
   "id": "advanced-cheat",
   "metadata": {},
   "source": [
    "### Объявление функций"
   ]
  },
  {
   "cell_type": "code",
   "execution_count": null,
   "id": "global-namibia",
   "metadata": {},
   "outputs": [],
   "source": []
  },
  {
   "cell_type": "markdown",
   "id": "accepting-appeal",
   "metadata": {},
   "source": [
    "### Объявление констант"
   ]
  },
  {
   "cell_type": "code",
   "execution_count": 3,
   "id": "general-headquarters",
   "metadata": {},
   "outputs": [],
   "source": [
    "delta_path = 'C:/Users/User/Desktop/Росстат/Проект_Датасеты/Датасеты/Демография/!Датасет_демография/3_ready_dataset/'\n",
    "prepared_data_path = 'C:/Users/User/Desktop/Росстат/Проект_Датасеты/Датасеты/Демография/!Датасет_демография/2_prepared_data/'"
   ]
  },
  {
   "cell_type": "code",
   "execution_count": 4,
   "id": "renewable-million",
   "metadata": {},
   "outputs": [],
   "source": [
    "last_delta = 'delta_0601.csv'\n",
    "data_for_concat = 'data_81_101.csv'"
   ]
  },
  {
   "cell_type": "markdown",
   "id": "significant-translation",
   "metadata": {},
   "source": [
    "### Загрузка датасетов"
   ]
  },
  {
   "cell_type": "code",
   "execution_count": 5,
   "id": "abroad-import",
   "metadata": {},
   "outputs": [
    {
     "name": "stdout",
     "output_type": "stream",
     "text": [
      "CPU times: total: 4.47 s\n",
      "Wall time: 4.53 s\n"
     ]
    }
   ],
   "source": [
    "%%time\n",
    "\n",
    "start_delta = pd.read_csv(delta_path + last_delta, index_col = 'Unnamed: 0', low_memory=False)"
   ]
  },
  {
   "cell_type": "code",
   "execution_count": 6,
   "id": "worth-tsunami",
   "metadata": {},
   "outputs": [
    {
     "name": "stdout",
     "output_type": "stream",
     "text": [
      "CPU times: total: 1.14 s\n",
      "Wall time: 1.16 s\n"
     ]
    }
   ],
   "source": [
    "%%time\n",
    "\n",
    "concat_data = pd.read_csv(prepared_data_path + data_for_concat, index_col = 'Unnamed: 0')"
   ]
  },
  {
   "cell_type": "code",
   "execution_count": null,
   "id": "nervous-comparison",
   "metadata": {},
   "outputs": [],
   "source": []
  },
  {
   "cell_type": "markdown",
   "id": "indonesian-participation",
   "metadata": {},
   "source": [
    "### Работа с датасетами"
   ]
  },
  {
   "cell_type": "code",
   "execution_count": 7,
   "id": "ignored-costume",
   "metadata": {
    "scrolled": true
   },
   "outputs": [
    {
     "name": "stdout",
     "output_type": "stream",
     "text": [
      "<class 'pandas.core.frame.DataFrame'>\n",
      "Int64Index: 678764 entries, 0 to 678763\n",
      "Data columns (total 28 columns):\n",
      " #   Column                 Non-Null Count   Dtype  \n",
      "---  ------                 --------------   -----  \n",
      " 0   id                     864 non-null     float64\n",
      " 1   object_name            678764 non-null  object \n",
      " 2   object_oktmo           765 non-null     float64\n",
      " 3   object_okato           658617 non-null  float64\n",
      " 4   year                   678764 non-null  float64\n",
      " 5   indicator_name         678764 non-null  object \n",
      " 6   indicator_unit         678476 non-null  object \n",
      " 7   original_unit          678764 non-null  object \n",
      " 8   area_type              608225 non-null  object \n",
      " 9   age_group              295377 non-null  object \n",
      " 10  year_of_birth          66528 non-null   float64\n",
      " 11  sex                    266481 non-null  object \n",
      " 12  month                  43776 non-null   object \n",
      " 13  birth_order            69888 non-null   object \n",
      " 14  mother_marital_status  1728 non-null    object \n",
      " 15  death_cause            4032 non-null    object \n",
      " 16  bride_age              56252 non-null   object \n",
      " 17  groom_age              56252 non-null   object \n",
      " 18  migration_direction    58494 non-null   object \n",
      " 19  country                280197 non-null  object \n",
      " 20  region                 26082 non-null   object \n",
      " 21  territory_type         10368 non-null   object \n",
      " 22  registration_type      11520 non-null   object \n",
      " 23  citizenship            11520 non-null   object \n",
      " 24  indicator_value        678764 non-null  object \n",
      " 25  original_accuracy      0 non-null       float64\n",
      " 26  methodology            0 non-null       float64\n",
      " 27  notes                  0 non-null       float64\n",
      "dtypes: float64(8), object(20)\n",
      "memory usage: 150.2+ MB\n"
     ]
    }
   ],
   "source": [
    "start_delta.info()"
   ]
  },
  {
   "cell_type": "code",
   "execution_count": 8,
   "id": "559ac2ce",
   "metadata": {},
   "outputs": [
    {
     "name": "stdout",
     "output_type": "stream",
     "text": [
      "<class 'pandas.core.frame.DataFrame'>\n",
      "Int64Index: 265356 entries, 0 to 265355\n",
      "Data columns (total 11 columns):\n",
      " #   Column           Non-Null Count   Dtype  \n",
      "---  ------           --------------   -----  \n",
      " 0   indicator_name   265356 non-null  object \n",
      " 1   indicator_value  265356 non-null  int64  \n",
      " 2   death_cause      265356 non-null  object \n",
      " 3   age_group        265356 non-null  object \n",
      " 4   year             265356 non-null  float64\n",
      " 5   original_unit    228132 non-null  object \n",
      " 6   indicator_unit   228132 non-null  object \n",
      " 7   object_name      265356 non-null  object \n",
      " 8   object_okato     260604 non-null  float64\n",
      " 9   area_type        265356 non-null  object \n",
      " 10  sex              265356 non-null  object \n",
      "dtypes: float64(2), int64(1), object(8)\n",
      "memory usage: 24.3+ MB\n"
     ]
    }
   ],
   "source": [
    "concat_data.info()"
   ]
  },
  {
   "cell_type": "code",
   "execution_count": 9,
   "id": "inner-membrane",
   "metadata": {},
   "outputs": [],
   "source": [
    "final_delta = pd.concat([start_delta, concat_data], ignore_index=True, sort=False).reindex(columns=start_delta.columns)"
   ]
  },
  {
   "cell_type": "code",
   "execution_count": 10,
   "id": "fdb607f0",
   "metadata": {},
   "outputs": [
    {
     "name": "stdout",
     "output_type": "stream",
     "text": [
      "<class 'pandas.core.frame.DataFrame'>\n",
      "RangeIndex: 944120 entries, 0 to 944119\n",
      "Data columns (total 28 columns):\n",
      " #   Column                 Non-Null Count   Dtype  \n",
      "---  ------                 --------------   -----  \n",
      " 0   id                     864 non-null     float64\n",
      " 1   object_name            944120 non-null  object \n",
      " 2   object_oktmo           765 non-null     float64\n",
      " 3   object_okato           919221 non-null  float64\n",
      " 4   year                   944120 non-null  float64\n",
      " 5   indicator_name         944120 non-null  object \n",
      " 6   indicator_unit         906608 non-null  object \n",
      " 7   original_unit          906896 non-null  object \n",
      " 8   area_type              873581 non-null  object \n",
      " 9   age_group              560733 non-null  object \n",
      " 10  year_of_birth          66528 non-null   float64\n",
      " 11  sex                    531837 non-null  object \n",
      " 12  month                  43776 non-null   object \n",
      " 13  birth_order            69888 non-null   object \n",
      " 14  mother_marital_status  1728 non-null    object \n",
      " 15  death_cause            269388 non-null  object \n",
      " 16  bride_age              56252 non-null   object \n",
      " 17  groom_age              56252 non-null   object \n",
      " 18  migration_direction    58494 non-null   object \n",
      " 19  country                280197 non-null  object \n",
      " 20  region                 26082 non-null   object \n",
      " 21  territory_type         10368 non-null   object \n",
      " 22  registration_type      11520 non-null   object \n",
      " 23  citizenship            11520 non-null   object \n",
      " 24  indicator_value        944120 non-null  object \n",
      " 25  original_accuracy      0 non-null       float64\n",
      " 26  methodology            0 non-null       float64\n",
      " 27  notes                  0 non-null       float64\n",
      "dtypes: float64(8), object(20)\n",
      "memory usage: 201.7+ MB\n"
     ]
    }
   ],
   "source": [
    "final_delta.info()"
   ]
  },
  {
   "cell_type": "code",
   "execution_count": 11,
   "id": "funny-transcript",
   "metadata": {},
   "outputs": [
    {
     "name": "stderr",
     "output_type": "stream",
     "text": [
      "C:\\Users\\User\\AppData\\Local\\Temp\\ipykernel_13528\\2791596738.py:1: FutureWarning: The pandas.datetime class is deprecated and will be removed from pandas in a future version. Import from datetime module instead.\n",
      "  if pd.datetime.now().month < 10:\n",
      "C:\\Users\\User\\AppData\\Local\\Temp\\ipykernel_13528\\2791596738.py:2: FutureWarning: The pandas.datetime class is deprecated and will be removed from pandas in a future version. Import from datetime module instead.\n",
      "  month = '0'+str(pd.datetime.now().month)\n",
      "C:\\Users\\User\\AppData\\Local\\Temp\\ipykernel_13528\\2791596738.py:6: FutureWarning: The pandas.datetime class is deprecated and will be removed from pandas in a future version. Import from datetime module instead.\n",
      "  if pd.datetime.now().day < 10:\n",
      "C:\\Users\\User\\AppData\\Local\\Temp\\ipykernel_13528\\2791596738.py:7: FutureWarning: The pandas.datetime class is deprecated and will be removed from pandas in a future version. Import from datetime module instead.\n",
      "  day = '0'+str(pd.datetime.now().day)\n"
     ]
    }
   ],
   "source": [
    "if pd.datetime.now().month < 10:\n",
    "    month = '0'+str(pd.datetime.now().month)\n",
    "else:\n",
    "    month = '0'+str(pd.datetime.now().month)\n",
    "\n",
    "if pd.datetime.now().day < 10:\n",
    "    day = '0'+str(pd.datetime.now().day)\n",
    "else:\n",
    "    day = str(pd.datetime.now().day)\n",
    "\n",
    "new_delta_name = 'delta_'+month+day+'.csv'\n"
   ]
  },
  {
   "cell_type": "code",
   "execution_count": 12,
   "id": "detailed-knife",
   "metadata": {},
   "outputs": [],
   "source": [
    "final_delta.to_csv(delta_path + new_delta_name)"
   ]
  },
  {
   "cell_type": "code",
   "execution_count": 13,
   "id": "incorrect-charleston",
   "metadata": {},
   "outputs": [
    {
     "name": "stdout",
     "output_type": "stream",
     "text": [
      "23 сек. или 0 мин. и  23 сек.\n"
     ]
    }
   ],
   "source": [
    "end = time.time()\n",
    "duration = end-start\n",
    "print(int(duration), 'сек. или', int(duration//60), 'мин. и ', int(duration % 60), 'сек.')"
   ]
  },
  {
   "cell_type": "markdown",
   "id": "d6129d88",
   "metadata": {},
   "source": []
  }
 ],
 "metadata": {
  "interpreter": {
   "hash": "23b4a3e8622309bcc6db3d5cc6eb73d60ab98d9ec23bad6a26b709981ccb403a"
  },
  "kernelspec": {
   "display_name": "Python 3.9.12 64-bit (windows store)",
   "language": "python",
   "name": "python3"
  },
  "language_info": {
   "codemirror_mode": {
    "name": "ipython",
    "version": 3
   },
   "file_extension": ".py",
   "mimetype": "text/x-python",
   "name": "python",
   "nbconvert_exporter": "python",
   "pygments_lexer": "ipython3",
   "version": "3.9.13"
  }
 },
 "nbformat": 4,
 "nbformat_minor": 5
}
